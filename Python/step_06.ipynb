{
 "cells": [
  {
   "cell_type": "code",
   "execution_count": 1,
   "metadata": {},
   "outputs": [],
   "source": [
    "class Product:\n",
    "    def __init__(self, name=\"Default\", price=0, quantity=1): # We assigned default values even if \"no arguments\" constructer would be called.\n",
    "        self.__name = name\n",
    "        self.__price = price # the \"__\" double underscore makes price variable \"PRIVATE\"\n",
    "        self.__quantity = quantity\n",
    "     \n",
    "    @property    \n",
    "    def name(self):\n",
    "        return self.__name\n",
    "    \n",
    "    @name.setter\n",
    "    def name(self, name):\n",
    "        self.__name = name\n",
    "        \n",
    "    @property\n",
    "    def price(self):\n",
    "        return self.__price\n",
    "    \n",
    "    @price.setter\n",
    "    def price(self, price):\n",
    "        self.__price = price\n",
    "        \n",
    "    @property\n",
    "    def quantity(self):\n",
    "        return self.__quantity\n",
    "    \n",
    "    @quantity.setter\n",
    "    def quantity(self, quantity):\n",
    "        self.__quantity = quantity\n",
    "        \n",
    "    def get_total_price(self):\n",
    "        return self.__price * self.__quantity"
   ]
  },
  {
   "cell_type": "code",
   "execution_count": 2,
   "metadata": {},
   "outputs": [
    {
     "name": "stdout",
     "output_type": "stream",
     "text": [
      "Monster Notebook\n",
      "1000.5\n",
      "185\n",
      "185092.5\n"
     ]
    }
   ],
   "source": [
    "computer1 = Product(\"Monster Notebook\", 1000.5, 185)\n",
    "\n",
    "computer1.__name = \"Monter Abra A5\" # We changed it with setter.\n",
    "\n",
    "print(computer1.name) #We got it with getter.\n",
    "print(computer1.price) \n",
    "print(computer1.quantity)\n",
    "print(computer1.get_total_price())"
   ]
  },
  {
   "cell_type": "code",
   "execution_count": 8,
   "metadata": {},
   "outputs": [
    {
     "name": "stdout",
     "output_type": "stream",
     "text": [
      "Default\n",
      "0\n",
      "1\n",
      "0\n",
      "Moster Office\n",
      "1500.65\n",
      "1\n",
      "1500.65\n"
     ]
    }
   ],
   "source": [
    "computer2 = Product() # Created with no args constructor\n",
    "\n",
    "print(computer2.name)\n",
    "print(computer2.price)\n",
    "print(computer2.quantity)\n",
    "print(computer2.get_total_price())\n",
    "\n",
    "computer3 = Product(\"Moster Office\", 1500.65) # Created with only 2 args.\n",
    "\n",
    "print(computer3.name)\n",
    "print(computer3.price)\n",
    "print(computer3.quantity)\n",
    "print(computer3.get_total_price())"
   ]
  }
 ],
 "metadata": {
  "kernelspec": {
   "display_name": "Python 3",
   "language": "python",
   "name": "python3"
  },
  "language_info": {
   "codemirror_mode": {
    "name": "ipython",
    "version": 3
   },
   "file_extension": ".py",
   "mimetype": "text/x-python",
   "name": "python",
   "nbconvert_exporter": "python",
   "pygments_lexer": "ipython3",
   "version": "3.12.3"
  }
 },
 "nbformat": 4,
 "nbformat_minor": 2
}
