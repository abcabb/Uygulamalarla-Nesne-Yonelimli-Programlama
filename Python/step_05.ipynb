{
 "cells": [
  {
   "cell_type": "code",
   "execution_count": 11,
   "metadata": {},
   "outputs": [],
   "source": [
    "class Product:\n",
    "    def __init__(self, name, price, quantity):\n",
    "        self.__name = name\n",
    "        self.__price = price # the \"__\" double underscore makes price variable \"PRIVATE\"\n",
    "        self.quantity = quantity\n",
    "     \n",
    "     # Getter and Setters in Python is like :\n",
    "     # variable name = variable\n",
    "     # getter : @property\n",
    "     #          def variable(self):\n",
    "     # setter : @variable.setter\n",
    "     #          def variable(self, value)\n",
    "     \n",
    "    @property    \n",
    "    def name(self):\n",
    "        return self.__name\n",
    "    \n",
    "    @name.setter\n",
    "    def name(self, name):\n",
    "        self.__name = name"
   ]
  },
  {
   "cell_type": "code",
   "execution_count": 12,
   "metadata": {},
   "outputs": [
    {
     "name": "stdout",
     "output_type": "stream",
     "text": [
      "Monter Abra A5\n"
     ]
    },
    {
     "ename": "AttributeError",
     "evalue": "'Product' object has no attribute 'price'",
     "output_type": "error",
     "traceback": [
      "\u001b[1;31m---------------------------------------------------------------------------\u001b[0m",
      "\u001b[1;31mAttributeError\u001b[0m                            Traceback (most recent call last)",
      "\u001b[1;32mc:\\Uygulamalarla-Nesne-Yonelimli-Programlama\\Python\\step_05.ipynb Cell 2\u001b[0m line \u001b[0;36m6\n\u001b[0;32m      <a href='vscode-notebook-cell:/c%3A/Uygulamalarla-Nesne-Yonelimli-Programlama/Python/step_05.ipynb#W1sZmlsZQ%3D%3D?line=2'>3</a>\u001b[0m computer1\u001b[39m.\u001b[39mname \u001b[39m=\u001b[39m \u001b[39m\"\u001b[39m\u001b[39mMonter Abra A5\u001b[39m\u001b[39m\"\u001b[39m \u001b[39m# We changed it with setter.\u001b[39;00m\n\u001b[0;32m      <a href='vscode-notebook-cell:/c%3A/Uygulamalarla-Nesne-Yonelimli-Programlama/Python/step_05.ipynb#W1sZmlsZQ%3D%3D?line=4'>5</a>\u001b[0m \u001b[39mprint\u001b[39m(computer1\u001b[39m.\u001b[39mname) \u001b[39m#We got it with getter.\u001b[39;00m\n\u001b[1;32m----> <a href='vscode-notebook-cell:/c%3A/Uygulamalarla-Nesne-Yonelimli-Programlama/Python/step_05.ipynb#W1sZmlsZQ%3D%3D?line=5'>6</a>\u001b[0m \u001b[39mprint\u001b[39m(computer1\u001b[39m.\u001b[39;49mprice) \u001b[39m#ERROR. We cannot access a private field without a getter neither change without a setter. \u001b[39;00m\n\u001b[0;32m      <a href='vscode-notebook-cell:/c%3A/Uygulamalarla-Nesne-Yonelimli-Programlama/Python/step_05.ipynb#W1sZmlsZQ%3D%3D?line=6'>7</a>\u001b[0m \u001b[39mprint\u001b[39m(computer1\u001b[39m.\u001b[39mquantity)\n",
      "\u001b[1;31mAttributeError\u001b[0m: 'Product' object has no attribute 'price'"
     ]
    }
   ],
   "source": [
    "computer1 = Product(\"Monster Notebook\", 1000.5, 185)\n",
    "\n",
    "computer1.name = \"Monter Abra A5\" # We changed it with setter.\n",
    "\n",
    "print(computer1.name) #We got it with getter.\n",
    "print(computer1.price) #ERROR. We cannot access a private field without a getter neither change without a setter. \n",
    "print(computer1.quantity)"
   ]
  }
 ],
 "metadata": {
  "kernelspec": {
   "display_name": "Python 3",
   "language": "python",
   "name": "python3"
  },
  "language_info": {
   "codemirror_mode": {
    "name": "ipython",
    "version": 3
   },
   "file_extension": ".py",
   "mimetype": "text/x-python",
   "name": "python",
   "nbconvert_exporter": "python",
   "pygments_lexer": "ipython3",
   "version": "3.12.3"
  }
 },
 "nbformat": 4,
 "nbformat_minor": 2
}
