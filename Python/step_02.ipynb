{
 "cells": [
  {
   "cell_type": "code",
   "execution_count": 1,
   "metadata": {},
   "outputs": [],
   "source": [
    "class Product:\n",
    "    pass"
   ]
  },
  {
   "cell_type": "code",
   "execution_count": 2,
   "metadata": {},
   "outputs": [],
   "source": [
    "item1 = Product()\n",
    "\n",
    "item1.Name = \"Laptop\"\n",
    "item1.Price = 489.55\n",
    "item1.Quantity = 2"
   ]
  },
  {
   "cell_type": "code",
   "execution_count": 3,
   "metadata": {},
   "outputs": [
    {
     "name": "stdout",
     "output_type": "stream",
     "text": [
      "<__main__.Product object at 0x00000230F682CA70>\n",
      "Laptop\n",
      "489.55\n",
      "2\n"
     ]
    }
   ],
   "source": [
    "print(item1)\n",
    "print(item1.Name)\n",
    "print(item1.Price)\n",
    "print(item1.Quantity)"
   ]
  },
  {
   "cell_type": "code",
   "execution_count": 4,
   "metadata": {},
   "outputs": [
    {
     "name": "stdout",
     "output_type": "stream",
     "text": [
      "<class '__main__.Product'>\n",
      "<class 'str'>\n",
      "<class 'float'>\n",
      "<class 'int'>\n"
     ]
    }
   ],
   "source": [
    "print(type(item1))\n",
    "print(type(item1.Name))\n",
    "print(type(item1.Price))\n",
    "print(type(item1.Quantity))"
   ]
  },
  {
   "cell_type": "code",
   "execution_count": 6,
   "metadata": {},
   "outputs": [],
   "source": [
    "item2 = Product()\n",
    "\n",
    "item2.Name = \"Computer\"\n",
    "item2.Price = 1489.55\n",
    "item2.Quantity = 4"
   ]
  }
 ],
 "metadata": {
  "kernelspec": {
   "display_name": "Python 3",
   "language": "python",
   "name": "python3"
  },
  "language_info": {
   "codemirror_mode": {
    "name": "ipython",
    "version": 3
   },
   "file_extension": ".py",
   "mimetype": "text/x-python",
   "name": "python",
   "nbconvert_exporter": "python",
   "pygments_lexer": "ipython3",
   "version": "3.12.3"
  }
 },
 "nbformat": 4,
 "nbformat_minor": 2
}
