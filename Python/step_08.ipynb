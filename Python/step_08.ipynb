{
 "cells": [
  {
   "cell_type": "code",
   "execution_count": 1,
   "metadata": {},
   "outputs": [],
   "source": [
    "class Product(object):\n",
    "    def __init__(self, name=\"Default\", price=0, quantity=1): # We assigned default values even if \"no arguments\" constructer would be called.\n",
    "        self.__name = name\n",
    "        self.__price = price # the \"__\" double underscore makes price variable \"PRIVATE\"\n",
    "        self.__quantity = quantity\n",
    "     \n",
    "    @property    \n",
    "    def name(self):\n",
    "        return self.__name\n",
    "    \n",
    "    @name.setter\n",
    "    def name(self, name):\n",
    "        self.__name = name\n",
    "        \n",
    "    @property\n",
    "    def price(self):\n",
    "        return self.__price\n",
    "    \n",
    "    @price.setter\n",
    "    def price(self, price):\n",
    "        self.__price = price\n",
    "        \n",
    "    @property\n",
    "    def quantity(self):\n",
    "        return self.__quantity\n",
    "    \n",
    "    @quantity.setter\n",
    "    def quantity(self, quantity):\n",
    "        self.__quantity = quantity\n",
    "        \n",
    "    def get_total_price(self):\n",
    "        return self.__price * self.__quantity\n",
    "    \n",
    "    def __repr__(self) -> str:\n",
    "        return f\"{self.__name} - {self.__price} - {self.__quantity}\""
   ]
  },
  {
   "cell_type": "code",
   "execution_count": 2,
   "metadata": {},
   "outputs": [
    {
     "name": "stdout",
     "output_type": "stream",
     "text": [
      "Monster Notebook - 1000.5 - 185\n"
     ]
    }
   ],
   "source": [
    "computer1 = Product(\"Monster Notebook\", 1000.5, 185)\n",
    "\n",
    "print(computer1) #The address we see in the output is the result of the toString method which comes with inheritance from object class.\n",
    "# Because every instance inherits from object. And derived from object. \n",
    "# SO, When assembler reads print(computer1) it doenst know how to read this \"computer1\" instance, so it inherits toString method  from object\n",
    "#class to read the object like this."
   ]
  },
  {
   "cell_type": "code",
   "execution_count": 3,
   "metadata": {},
   "outputs": [
    {
     "name": "stdout",
     "output_type": "stream",
     "text": [
      "Default - 0 - 1\n",
      "Moster Office - 1500.65 - 1\n"
     ]
    }
   ],
   "source": [
    "computer2 = Product() \n",
    "\n",
    "print(computer2)\n",
    "\n",
    "computer3 = Product(\"Moster Office\", 1500.65) \n",
    "\n",
    "print(computer3) "
   ]
  }
 ],
 "metadata": {
  "kernelspec": {
   "display_name": "Python 3",
   "language": "python",
   "name": "python3"
  },
  "language_info": {
   "codemirror_mode": {
    "name": "ipython",
    "version": 3
   },
   "file_extension": ".py",
   "mimetype": "text/x-python",
   "name": "python",
   "nbconvert_exporter": "python",
   "pygments_lexer": "ipython3",
   "version": "3.12.3"
  }
 },
 "nbformat": 4,
 "nbformat_minor": 2
}
