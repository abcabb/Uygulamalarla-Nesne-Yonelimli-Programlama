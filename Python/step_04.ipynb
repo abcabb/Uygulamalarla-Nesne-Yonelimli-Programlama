{
 "cells": [
  {
   "cell_type": "code",
   "execution_count": 5,
   "metadata": {},
   "outputs": [],
   "source": [
    "class Product:\n",
    "    def __init__(self, name, price, quantity): #this is our constructor.\n",
    "        print(\"Hello\")\n",
    "        self.name = name\n",
    "        self.price = price\n",
    "        self.quantity = quantity"
   ]
  },
  {
   "cell_type": "code",
   "execution_count": 6,
   "metadata": {},
   "outputs": [
    {
     "name": "stdout",
     "output_type": "stream",
     "text": [
      "Hello\n",
      "Laptop\n",
      "489.55\n",
      "2\n"
     ]
    }
   ],
   "source": [
    "item1 = Product(\"Laptop\", 489.55, 2)\n",
    "\n",
    "print(item1.name)\n",
    "print(item1.price)\n",
    "print(item1.quantity)"
   ]
  },
  {
   "cell_type": "code",
   "execution_count": 7,
   "metadata": {},
   "outputs": [
    {
     "name": "stdout",
     "output_type": "stream",
     "text": [
      "Hello\n",
      "489.55\n"
     ]
    }
   ],
   "source": [
    "item2 = Product(\"Computer\", 489.55, 4)\n",
    "\n",
    "print(item2.price)"
   ]
  }
 ],
 "metadata": {
  "kernelspec": {
   "display_name": "Python 3",
   "language": "python",
   "name": "python3"
  },
  "language_info": {
   "codemirror_mode": {
    "name": "ipython",
    "version": 3
   },
   "file_extension": ".py",
   "mimetype": "text/x-python",
   "name": "python",
   "nbconvert_exporter": "python",
   "pygments_lexer": "ipython3",
   "version": "3.12.3"
  }
 },
 "nbformat": 4,
 "nbformat_minor": 2
}
