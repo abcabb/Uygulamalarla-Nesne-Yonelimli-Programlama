{
 "cells": [
  {
   "cell_type": "code",
   "execution_count": 1,
   "metadata": {},
   "outputs": [],
   "source": [
    "class Person:\n",
    "    def __init__(self, name=\"\", age=0):\n",
    "        self.name = name\n",
    "        self.age = age\n",
    "        print(\"Person instance has been created\")\n",
    "\n",
    "    def getName(self):\n",
    "        return self.name\n",
    "\n",
    "    def setName(self, name):\n",
    "        self.name = name\n",
    "\n",
    "    def getAge(self):\n",
    "        return self.age\n",
    "\n",
    "    def setAge(self, age):\n",
    "        self.age = age\n",
    "\n",
    "    def giveInfo(self):\n",
    "        print(f\"Person's name is {self.name} and age is {self.age}\")\n",
    "\n",
    "\n",
    "class Student(Person):\n",
    "    def __init__(self, name, age, studentNo):\n",
    "        super().__init__(name, age)\n",
    "        self.studentNo = studentNo\n",
    "        print(\"instance has been created from student class with 3 args constructor.\")\n",
    "\n",
    "    def giveInfo(self):\n",
    "        print(f\"Student name: {self.name}, Student age: {self.age}, Student number: {self.studentNo}\")\n",
    "\n",
    "\n",
    "class Teacher(Person):\n",
    "    def __init__(self, name, age, lessonOfTeacher):\n",
    "        super().__init__(name, age)\n",
    "        self.lessonOfTeacher = lessonOfTeacher\n",
    "        print(\"instance has been created from teacher class with 3 args constructor.\")\n",
    "\n",
    "    def giveInfo(self):\n",
    "        print(f\"Teacher name: {self.name}, Teacher age: {self.age}, Teacher lesson: {self.lessonOfTeacher}\")\n"
   ]
  },
  {
   "cell_type": "code",
   "execution_count": 2,
   "metadata": {},
   "outputs": [
    {
     "name": "stdout",
     "output_type": "stream",
     "text": [
      "Person instance has been created\n",
      "Person name: Semi Person age: 21\n",
      "Person instance has been created\n",
      "Person's name is Pelin and age is 18\n",
      "Person instance has been created\n",
      "instance has been created from student class with 3 args constructor.\n",
      "Student name: Jack, Student age: 86, Student number: 100523\n",
      "Person instance has been created\n",
      "instance has been created from teacher class with 3 args constructor.\n",
      "Teacher name: Billy, Teacher age: 50, Teacher lesson: Math\n"
     ]
    }
   ],
   "source": [
    "person1 = Person()\n",
    "person1.setAge(21)\n",
    "person1.setName(\"Semi\")\n",
    "print(\"Person name:\", person1.getName(), \"Person age:\", person1.getAge())\n",
    "\n",
    "person2 = Person(\"Pelin\", 18)\n",
    "person2.giveInfo()\n",
    "\n",
    "student1 = Student(\"Jack\", 86, 100523)\n",
    "student1.giveInfo()\n",
    "\n",
    "teacher1 = Teacher(\"Billy\", 50, \"Math\")\n",
    "teacher1.giveInfo()"
   ]
  }
 ],
 "metadata": {
  "kernelspec": {
   "display_name": "Python 3",
   "language": "python",
   "name": "python3"
  },
  "language_info": {
   "codemirror_mode": {
    "name": "ipython",
    "version": 3
   },
   "file_extension": ".py",
   "mimetype": "text/x-python",
   "name": "python",
   "nbconvert_exporter": "python",
   "pygments_lexer": "ipython3",
   "version": "3.12.3"
  }
 },
 "nbformat": 4,
 "nbformat_minor": 2
}
